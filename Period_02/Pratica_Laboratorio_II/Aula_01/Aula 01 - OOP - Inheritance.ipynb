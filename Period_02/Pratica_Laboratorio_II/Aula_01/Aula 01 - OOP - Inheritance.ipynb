{
 "cells": [
  {
   "cell_type": "markdown",
   "metadata": {},
   "source": [
    "# OOP - Inheritance"
   ]
  },
  {
   "cell_type": "code",
   "execution_count": 2,
   "metadata": {
    "collapsed": false
   },
   "outputs": [],
   "source": [
    "# Class Animal definition\n",
    "class Animal:\n",
    "    def __init__(self, especie, cor):\n",
    "        # init code here\n",
    "        self.especie=str(especie)\n",
    "        self.cor=str(cor)\n",
    "    # Animal's methods code here\n",
    "\n",
    "# Class Mamifero inheriting from Animal\n",
    "class Mamifero(Animal):\n",
    "    def __init__(self):\n",
    "        pass # pass express an empty code block\n",
    "\n",
    "class Felino(Mamifero):\n",
    "    def __init__(self):\n",
    "        pass\n",
    "\n",
    "class Gato(Felino):\n",
    "    def __init__(self):\n",
    "        pass\n"
   ]
  },
  {
   "cell_type": "markdown",
   "metadata": {},
   "source": [
    "## References\n",
    "\n",
    "https://docs.python.org/3/library/stdtypes.html#textseq\n",
    "\n",
    "https://docs.python.org/2/library/datatypes.html"
   ]
  }
 ],
 "metadata": {
  "kernelspec": {
   "display_name": "Python (py27)",
   "language": "python",
   "name": "py27"
  },
  "language_info": {
   "codemirror_mode": {
    "name": "ipython",
    "version": 2
   },
   "file_extension": ".py",
   "mimetype": "text/x-python",
   "name": "python",
   "nbconvert_exporter": "python",
   "pygments_lexer": "ipython2",
   "version": "2.7.13"
  }
 },
 "nbformat": 4,
 "nbformat_minor": 2
}
