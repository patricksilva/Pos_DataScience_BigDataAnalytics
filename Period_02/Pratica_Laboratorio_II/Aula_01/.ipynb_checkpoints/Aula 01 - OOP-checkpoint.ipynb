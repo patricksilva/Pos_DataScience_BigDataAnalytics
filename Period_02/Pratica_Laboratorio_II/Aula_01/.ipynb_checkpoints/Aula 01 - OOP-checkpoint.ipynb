{
 "cells": [
  {
   "cell_type": "markdown",
   "metadata": {},
   "source": [
    "# Object Oriented Programming in Python 2.7\n",
    "\n"
   ]
  },
  {
   "cell_type": "code",
   "execution_count": 1,
   "metadata": {
    "collapsed": true
   },
   "outputs": [],
   "source": [
    "class Pessoa:\n",
    "    def __init__(self, nome, idade):\n",
    "        self.nome=nome\n",
    "        self.idade=idade\n",
    "    def obterNome(self):\n",
    "        return self.nome\n",
    "    def obterIdade(self):\n",
    "        return self.idade"
   ]
  },
  {
   "cell_type": "code",
   "execution_count": 3,
   "metadata": {
    "collapsed": false
   },
   "outputs": [
    {
     "name": "stdout",
     "output_type": "stream",
     "text": [
      "Pedro\n",
      "49\n"
     ]
    }
   ],
   "source": [
    "pessoa = Pessoa('Pedro', 49)\n",
    "print pessoa.obterNome()\n",
    "print pessoa.obterIdade()\n",
    "# In order to stop execution in command line interpreter, call raw_input()\n",
    "# raw_input()"
   ]
  },
  {
   "cell_type": "code",
   "execution_count": null,
   "metadata": {
    "collapsed": true
   },
   "outputs": [],
   "source": []
  }
 ],
 "metadata": {
  "kernelspec": {
   "display_name": "Python 2",
   "language": "python",
   "name": "python2"
  },
  "language_info": {
   "codemirror_mode": {
    "name": "ipython",
    "version": 2
   },
   "file_extension": ".py",
   "mimetype": "text/x-python",
   "name": "python",
   "nbconvert_exporter": "python",
   "pygments_lexer": "ipython2",
   "version": "2.7.13"
  }
 },
 "nbformat": 4,
 "nbformat_minor": 2
}
