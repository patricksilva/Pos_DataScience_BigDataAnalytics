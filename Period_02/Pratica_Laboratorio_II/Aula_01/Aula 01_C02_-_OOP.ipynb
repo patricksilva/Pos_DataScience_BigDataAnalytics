{
 "cells": [
  {
   "cell_type": "markdown",
   "metadata": {},
   "source": [
    "# Object Oriented Programming in Python 2.7\n",
    "\n"
   ]
  },
  {
   "cell_type": "code",
   "execution_count": null,
   "metadata": {
    "collapsed": true
   },
   "outputs": [],
   "source": [
    "class Pessoa:\n",
    "    def __init__(self, nome, idade):\n",
    "        self.nome=nome\n",
    "        self.idade=idade\n",
    "    def obterNome(self):\n",
    "        return self.nome\n",
    "    def obterIdade(self):\n",
    "        return self.idade"
   ]
  },
  {
   "cell_type": "code",
   "execution_count": null,
   "metadata": {
    "collapsed": false
   },
   "outputs": [],
   "source": [
    "pessoa = Pessoa('Pedro', 49)\n",
    "print type(pessoa)\n",
    "print pessoa.__class__\n",
    "print pessoa.obterNome()\n",
    "print pessoa.obterIdade()\n",
    "# In order to stop execution in command line interpreter, call raw_input()\n",
    "# raw_input()"
   ]
  },
  {
   "cell_type": "code",
   "execution_count": null,
   "metadata": {
    "collapsed": false
   },
   "outputs": [],
   "source": [
    "class Gelatine:\n",
    "    def __init__(self, size, color, flavor):\n",
    "        self.size=size\n",
    "        self.color=color\n",
    "        self.flavor=flavor\n",
    "    def getSize(self):\n",
    "        return self.size\n",
    "    def getColor(self):\n",
    "        return self.color\n",
    "    def getFlavor(self):\n",
    "        return self.flavor\n",
    "    def showData(self):\n",
    "        return self.getSize(), self.getColor(), self.getFlavor()\n",
    "\n",
    "gelatine01 = Gelatine('small', 'red', 'strawberry')\n",
    "gelatine02 = Gelatine('average', 'yellow', 'pineapple')\n",
    "gelatine03 = Gelatine('big', 'purple', 'grape')\n",
    "\n",
    "print gelatine\n",
    "print type(gelatine)\n",
    "print gelatine.__class__\n",
    "\n",
    "print gelatine01.showData()"
   ]
  },
  {
   "cell_type": "markdown",
   "metadata": {},
   "source": [
    "### Importing Modules"
   ]
  },
  {
   "cell_type": "code",
   "execution_count": null,
   "metadata": {
    "collapsed": false
   },
   "outputs": [],
   "source": [
    "import math\n",
    "print math.pi\n",
    "\n",
    "from fibonacci_python2 import *\n",
    "#import fibonacci_python2 as fibo\n",
    "\n",
    "print fib(20)\n",
    "print fib2(20)\n",
    "\n",
    "dir()"
   ]
  },
  {
   "cell_type": "markdown",
   "metadata": {},
   "source": [
    "### Interesting Modules"
   ]
  },
  {
   "cell_type": "markdown",
   "metadata": {},
   "source": [
    "#### SYS - System"
   ]
  },
  {
   "cell_type": "code",
   "execution_count": null,
   "metadata": {
    "collapsed": false
   },
   "outputs": [],
   "source": [
    "import sys\n",
    "\n",
    "# ps references the sistem prompts\n",
    "# ps1: >\n",
    "# ps2: ...\n",
    "\n",
    "print sys.ps1\n",
    "print sys.ps2"
   ]
  },
  {
   "cell_type": "markdown",
   "metadata": {},
   "source": [
    "#### RE - Regular Expressions"
   ]
  },
  {
   "cell_type": "code",
   "execution_count": null,
   "metadata": {
    "collapsed": true
   },
   "outputs": [],
   "source": [
    "import re\n",
    "# REGULAR EXPRESSIONS\n",
    "\n",
    "# re.findall('f[a-z]*',) full, fill, fast\n"
   ]
  },
  {
   "cell_type": "markdown",
   "metadata": {},
   "source": [
    "#### MATH and RANDOM"
   ]
  },
  {
   "cell_type": "code",
   "execution_count": 19,
   "metadata": {
    "collapsed": false
   },
   "outputs": [
    {
     "name": "stdout",
     "output_type": "stream",
     "text": [
      "0.866025403784\n",
      "66\n",
      "[21, 42, 48, 53, 55, 57]\n"
     ]
    }
   ],
   "source": [
    "import math\n",
    "import random\n",
    "\n",
    "# Python \"modules\" are analogous C \"libraries\"\n",
    "angle = 60\n",
    "\n",
    "print math.sin( angle * math.pi / 180 )\n",
    "\n",
    "print random.randrange(0, 101, 2)\n",
    "\n",
    "l = random.sample(range(1,61),  6)\n",
    "l.sort()\n",
    "\n",
    "print l\n",
    "\n"
   ]
  },
  {
   "cell_type": "markdown",
   "metadata": {},
   "source": [
    "#### Internet"
   ]
  },
  {
   "cell_type": "code",
   "execution_count": 21,
   "metadata": {
    "collapsed": true
   },
   "outputs": [],
   "source": [
    "import urllib2\n",
    "\n",
    "# 19:00, permite criar modulo de navegacao na Internet, realizar pesquisas, dentre outras operacoes"
   ]
  },
  {
   "cell_type": "markdown",
   "metadata": {},
   "source": [
    "### References\n",
    "\n",
    "https://docs.python.org/2/tutorial/modules.html?highlight=fibonacci\n",
    "\n",
    "https://docs.python.org/2/library/random.html?highlight=random#module-random\n",
    "\n",
    "http://python-reference.readthedocs.io/en/latest/docs/list/sort.html"
   ]
  }
 ],
 "metadata": {
  "kernelspec": {
   "display_name": "Python (py27)",
   "language": "python",
   "name": "py27"
  },
  "language_info": {
   "codemirror_mode": {
    "name": "ipython",
    "version": 2
   },
   "file_extension": ".py",
   "mimetype": "text/x-python",
   "name": "python",
   "nbconvert_exporter": "python",
   "pygments_lexer": "ipython2",
   "version": "2.7.13"
  }
 },
 "nbformat": 4,
 "nbformat_minor": 2
}
