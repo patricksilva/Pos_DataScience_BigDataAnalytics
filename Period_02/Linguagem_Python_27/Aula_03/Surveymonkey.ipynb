{
 "cells": [
  {
   "cell_type": "code",
   "execution_count": 2,
   "metadata": {
    "collapsed": true
   },
   "outputs": [],
   "source": [
    "import requests"
   ]
  },
  {
   "cell_type": "markdown",
   "metadata": {},
   "source": [
    "curl -i -X GET\n",
    "\n",
    "-H \"Authorization:bearer USER_ACCESS_TOKEN\"\n",
    "\n",
    "-H \"Content-Type\": \"application/json\"\n",
    "\n",
    "https://api.surveymonkey.net/v3/users/me\n"
   ]
  },
  {
   "cell_type": "code",
   "execution_count": 22,
   "metadata": {
    "collapsed": false
   },
   "outputs": [
    {
     "name": "stdout",
     "output_type": "stream",
     "text": [
      "{u'error': {u'docs': u'https://developer.surveymonkey.com/api/v3/#error-codes', u'message': u'The authorization token was not provided.', u'http_status_code': 401, u'id': u'1010', u'name': u'Authorization Error'}}\n"
     ]
    }
   ],
   "source": [
    "payload = {\"Authorization\":\"Bearer USER_ACCESS_TOKEN\",\"Content-Type\":\"application/json\"}\n",
    "#payload = {\"Bearer token\":\"USER_ACCESS_TOKEN\", \"Content-Type\":\"application/json\"}\n",
    "try:\n",
    "    r = requests.get('https://api.surveymonkey.net/v3/users/me', params=payload)#, timeout=5)\n",
    "except requests.exceptions.RequestException as e:\n",
    "    print 'Exception catched'\n",
    "    print e\n",
    "\n",
    "print r.json()"
   ]
  },
  {
   "cell_type": "markdown",
   "metadata": {},
   "source": [
    "### References\n",
    "\n",
    "https://stackoverflow.com/questions/17936555/how-to-construct-the-curl-command-from-python-requests-module\n",
    "\n",
    "https://stackoverflow.com/questions/29931671/making-an-api-call-in-python-with-an-api-that-requires-a-bearer-token\n",
    "\n",
    "https://github.com/SurveyMonkey/python_guides/blob/master/guides/polling.py"
   ]
  }
 ],
 "metadata": {
  "kernelspec": {
   "display_name": "Python 2",
   "language": "python",
   "name": "python2"
  },
  "language_info": {
   "codemirror_mode": {
    "name": "ipython",
    "version": 2
   },
   "file_extension": ".py",
   "mimetype": "text/x-python",
   "name": "python",
   "nbconvert_exporter": "python",
   "pygments_lexer": "ipython2",
   "version": "2.7.13"
  }
 },
 "nbformat": 4,
 "nbformat_minor": 2
}
