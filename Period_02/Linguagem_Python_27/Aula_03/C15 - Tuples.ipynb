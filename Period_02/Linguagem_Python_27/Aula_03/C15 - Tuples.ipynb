{
 "cells": [
  {
   "cell_type": "markdown",
   "metadata": {},
   "source": [
    "## Tuples are immutable"
   ]
  },
  {
   "cell_type": "code",
   "execution_count": 13,
   "metadata": {
    "collapsed": false
   },
   "outputs": [
    {
     "name": "stdout",
     "output_type": "stream",
     "text": [
      "{} <type 'dict'> <type 'dict'>\n",
      "[] <type 'list'> <type 'list'>\n",
      "() <type 'tuple'> <type 'tuple'>\n",
      "tuples are immutable\n"
     ]
    }
   ],
   "source": [
    "d = {}\n",
    "l = []\n",
    "t = ()\n",
    "\n",
    "list_of_basic_python_data_structures = [d,l,t]\n",
    "\n",
    "map(type, list_of_basic_python_data_structures)\n",
    "\n",
    "for e in list_of_basic_python_data_structures:\n",
    "    print e, type(e), e.__class__\n",
    "    if isinstance(e, tuple):\n",
    "        print 'tuples are immutable'"
   ]
  },
  {
   "cell_type": "code",
   "execution_count": 22,
   "metadata": {
    "collapsed": false
   },
   "outputs": [
    {
     "name": "stdout",
     "output_type": "stream",
     "text": [
      "<type 'tuple'>\n",
      "<type 'tuple'>\n",
      "<type 'str'>\n",
      "<type 'tuple'>\n"
     ]
    }
   ],
   "source": [
    "tupla = 'a','e','i','o','u'\n",
    "print tupla.__class__\n",
    "\n",
    "tupla = ('a','e','i','o','u')\n",
    "print tupla.__class__\n",
    "\n",
    "tupla = ('a') # IMPORTANT! This does not generate a tuple\n",
    "print tupla.__class__\n",
    "\n",
    "tupla = ('a',)\n",
    "print tupla.__class__\n"
   ]
  },
  {
   "cell_type": "markdown",
   "metadata": {},
   "source": [
    "### Comparing tuples"
   ]
  },
  {
   "cell_type": "code",
   "execution_count": 4,
   "metadata": {
    "collapsed": false
   },
   "outputs": [
    {
     "name": "stdout",
     "output_type": "stream",
     "text": [
      "[(11, 'competitive'), (9, 'advantage'), (7, 'Science'), (6, 'search'), (4, 'Data'), (3, 'for'), (2, 'in')]\n",
      "['competitive', 'advantage', 'Science', 'search', 'Data', 'for', 'in']\n"
     ]
    }
   ],
   "source": [
    "txt = 'Data Science in search for competitive advantage'\n",
    "\n",
    "words = txt.split()\n",
    "\n",
    "t = list() # initialize an empty list to receive tuples\n",
    "for word in words:\n",
    "    t.append((len(word),word)) # adds a tuple of (lenth, word) to \"t\" list\n",
    "    \n",
    "t.sort(reverse=True)\n",
    "print t\n",
    "\n",
    "res = list() # initialize an empty list to receive the results\n",
    "for length, word in t: # \"t\" is a tuple. Then (length, word) must be used.\n",
    "    res.append(word)\n",
    "\n",
    "print res"
   ]
  },
  {
   "cell_type": "markdown",
   "metadata": {},
   "source": [
    "### How to make tuple attribution\n",
    "\n",
    "This way, more than one variable can be assigned in one time when the left hand term is a sequence."
   ]
  },
  {
   "cell_type": "code",
   "execution_count": 7,
   "metadata": {
    "collapsed": false
   },
   "outputs": [
    {
     "name": "stdout",
     "output_type": "stream",
     "text": [
      "First\n",
      "<type 'str'>\n",
      "Last\n",
      "<type 'str'>\n"
     ]
    }
   ],
   "source": [
    "m = ['First','Last']\n",
    "\n",
    "x1, x2 = m\n",
    "\n",
    "print x1\n",
    "print x1.__class__\n",
    "\n",
    "print x2\n",
    "print x2.__class__"
   ]
  },
  {
   "cell_type": "markdown",
   "metadata": {},
   "source": [
    "### Python dictionaries have a method that return a list of tuples"
   ]
  },
  {
   "cell_type": "code",
   "execution_count": 10,
   "metadata": {
    "collapsed": false
   },
   "outputs": [
    {
     "name": "stdout",
     "output_type": "stream",
     "text": [
      "[('a', 10), ('c', 22), ('b', 1)]\n"
     ]
    }
   ],
   "source": [
    "d = {'a':10,'b':1,'c':22}\n",
    "t = d.items() # returns a list of tuples\n",
    "\n",
    "print t"
   ]
  },
  {
   "cell_type": "markdown",
   "metadata": {},
   "source": [
    "### Multiple attribution with dictionaries\n",
    "\n",
    "Python allows us to combine **items**, **attribution of tuples** and the **for** loop in order to build a pattern good for pass through the **keys** and **values** of a dictionary in one unique structure of iteration.\n",
    "\n",
    "This is important when we want to sort a dictionary by it's values, instead of it's keys."
   ]
  },
  {
   "cell_type": "code",
   "execution_count": 12,
   "metadata": {
    "collapsed": false
   },
   "outputs": [
    {
     "name": "stdout",
     "output_type": "stream",
     "text": [
      "10 a\n",
      "22 c\n",
      "1 b\n"
     ]
    }
   ],
   "source": [
    "d = {'a':10,'b':1,'c':22}\n",
    "\n",
    "for key, val in d.items():\n",
    "    print val, key\n"
   ]
  },
  {
   "cell_type": "code",
   "execution_count": 33,
   "metadata": {
    "collapsed": false
   },
   "outputs": [
    {
     "name": "stdout",
     "output_type": "stream",
     "text": [
      "SILVA Patrick\n",
      "NETO Alessandro\n",
      "OLIVEIRA Bruno\n",
      "--------------------------------------------------------------------------------\n",
      "<type 'list'>\n",
      "[('SILVA', 'Patrick'), ('NETO', 'Alessandro'), ('OLIVEIRA', 'Bruno')]\n",
      "<type 'dict'>\n",
      "{('OLIVEIRA', 'Bruno'): 13, ('NETO', 'Alessandro'): 14, ('SILVA', 'Patrick'): 12}\n"
     ]
    }
   ],
   "source": [
    "listOfTuplesWithLastNameFirstName = [('SILVA','Patrick'),\n",
    "                                     ('NETO','Alessandro'),\n",
    "                                     ('OLIVEIRA','Bruno')]\n",
    "d = {}\n",
    "for l,f in listOfTuplesWithLastNameFirstName:\n",
    "    print l, f\n",
    "    d[l,f] = len(l) + len(f)\n",
    "print '-' * 80\n",
    "print listOfTuplesWithLastNameFirstName.__class__\n",
    "print listOfTuplesWithLastNameFirstName\n",
    "print d.__class__\n",
    "print d\n"
   ]
  },
  {
   "cell_type": "code",
   "execution_count": 30,
   "metadata": {
    "collapsed": false
   },
   "outputs": [
    {
     "name": "stdout",
     "output_type": "stream",
     "text": [
      "<type 'list'>\n",
      "Patrick SILVA Alessandro NETO Bruno OLIVEIRA\n"
     ]
    }
   ],
   "source": [
    "directory = listOfTyplesWithLastNameFirstName\n",
    "\n",
    "print directory.__class__\n",
    "for last, first in directory:\n",
    "    print first, last,# directory[last,first]"
   ]
  }
 ],
 "metadata": {
  "kernelspec": {
   "display_name": "Python 2",
   "language": "python",
   "name": "python2"
  },
  "language_info": {
   "codemirror_mode": {
    "name": "ipython",
    "version": 2
   },
   "file_extension": ".py",
   "mimetype": "text/x-python",
   "name": "python",
   "nbconvert_exporter": "python",
   "pygments_lexer": "ipython2",
   "version": "2.7.13"
  }
 },
 "nbformat": 4,
 "nbformat_minor": 2
}
