{
 "cells": [
  {
   "cell_type": "markdown",
   "metadata": {},
   "source": [
    "# Exploring Python 2.7"
   ]
  },
  {
   "cell_type": "markdown",
   "metadata": {},
   "source": [
    "## Operators and Operands\n",
    "\n",
    "Arithmetic Operators are special symbols used to represent certain arithmetic operations.\n",
    "Operands are values that the operators designate to variables.\n",
    "```python\n",
    "+, -, *, /, **: addition, subtraction, multiplication, division, exponentiation\n",
    "```"
   ]
  },
  {
   "cell_type": "code",
   "execution_count": 1,
   "metadata": {
    "collapsed": false
   },
   "outputs": [
    {
     "data": {
      "text/plain": [
       "3"
      ]
     },
     "execution_count": 1,
     "metadata": {},
     "output_type": "execute_result"
    }
   ],
   "source": [
    "1 + 2"
   ]
  },
  {
   "cell_type": "code",
   "execution_count": 35,
   "metadata": {
    "collapsed": false
   },
   "outputs": [
    {
     "data": {
      "text/plain": [
       "-1"
      ]
     },
     "execution_count": 35,
     "metadata": {},
     "output_type": "execute_result"
    }
   ],
   "source": [
    "3 - 4"
   ]
  },
  {
   "cell_type": "code",
   "execution_count": 36,
   "metadata": {
    "collapsed": false
   },
   "outputs": [
    {
     "data": {
      "text/plain": [
       "30"
      ]
     },
     "execution_count": 36,
     "metadata": {},
     "output_type": "execute_result"
    }
   ],
   "source": [
    "5 * 6"
   ]
  },
  {
   "cell_type": "code",
   "execution_count": 37,
   "metadata": {
    "collapsed": false
   },
   "outputs": [
    {
     "data": {
      "text/plain": [
       "1"
      ]
     },
     "execution_count": 37,
     "metadata": {},
     "output_type": "execute_result"
    }
   ],
   "source": [
    "8 / 7"
   ]
  },
  {
   "cell_type": "code",
   "execution_count": 38,
   "metadata": {
    "collapsed": false
   },
   "outputs": [
    {
     "data": {
      "text/plain": [
       "1.1428571428571428"
      ]
     },
     "execution_count": 38,
     "metadata": {},
     "output_type": "execute_result"
    }
   ],
   "source": [
    "8. / 7"
   ]
  },
  {
   "cell_type": "code",
   "execution_count": 10,
   "metadata": {
    "collapsed": false
   },
   "outputs": [
    {
     "data": {
      "text/plain": [
       "8"
      ]
     },
     "execution_count": 10,
     "metadata": {},
     "output_type": "execute_result"
    }
   ],
   "source": [
    "2 ** 3"
   ]
  },
  {
   "cell_type": "markdown",
   "metadata": {},
   "source": [
    "```python\n",
    "//, %: Integer division, returns division rest\n",
    "```"
   ]
  },
  {
   "cell_type": "code",
   "execution_count": 30,
   "metadata": {
    "collapsed": false
   },
   "outputs": [
    {
     "data": {
      "text/plain": [
       "2"
      ]
     },
     "execution_count": 30,
     "metadata": {},
     "output_type": "execute_result"
    }
   ],
   "source": [
    "a = 5\n",
    "b = 2\n",
    "\n",
    "a // b"
   ]
  },
  {
   "cell_type": "code",
   "execution_count": 32,
   "metadata": {
    "collapsed": false
   },
   "outputs": [
    {
     "data": {
      "text/plain": [
       "1"
      ]
     },
     "execution_count": 32,
     "metadata": {},
     "output_type": "execute_result"
    }
   ],
   "source": [
    "a % b"
   ]
  },
  {
   "cell_type": "markdown",
   "metadata": {},
   "source": [
    "## Relational Operators\n",
    "\n",
    "```python\n",
    ">, <, <=, >=, !=\n",
    "\n",
    "# Equality\n",
    "==\n",
    "\n",
    "# Attribution\n",
    "=\n",
    "```"
   ]
  },
  {
   "cell_type": "markdown",
   "metadata": {},
   "source": [
    "## Logical and bit shift Operators\n",
    "\n",
    "```python\n",
    "# Logical\n",
    "and, or, not\n",
    "\n",
    "# bit shift\n",
    "<<, >>\n",
    "\n",
    "# \n",
    "&: Logical and\n",
    "|: Logical or\n",
    "^: Logical xor\n",
    "~: Logical not\n",
    "```\n",
    "\n",
    "\n"
   ]
  },
  {
   "cell_type": "code",
   "execution_count": 48,
   "metadata": {
    "collapsed": false
   },
   "outputs": [
    {
     "data": {
      "text/plain": [
       "False"
      ]
     },
     "execution_count": 48,
     "metadata": {},
     "output_type": "execute_result"
    }
   ],
   "source": [
    "True & False"
   ]
  },
  {
   "cell_type": "markdown",
   "metadata": {},
   "source": [
    "## Operators with anonymous functions\n",
    "\n",
    "Allows the creation of functions without a specified name.\n",
    "\n",
    "These functions still represent a very important feature in the Python programming language when it comes to parameter value. That is, the value that will be read back as reference. The so-called \"call back.\"\n",
    "\n",
    "\n",
    "\n",
    "\n"
   ]
  },
  {
   "cell_type": "code",
   "execution_count": null,
   "metadata": {
    "collapsed": true
   },
   "outputs": [],
   "source": []
  },
  {
   "cell_type": "markdown",
   "metadata": {},
   "source": [
    "## Importing modules"
   ]
  },
  {
   "cell_type": "code",
   "execution_count": 32,
   "metadata": {
    "collapsed": false
   },
   "outputs": [
    {
     "data": {
      "text/plain": [
       "10.0"
      ]
     },
     "execution_count": 32,
     "metadata": {},
     "output_type": "execute_result"
    }
   ],
   "source": [
    "import math\n",
    "\n",
    "math.sqrt(100)"
   ]
  },
  {
   "cell_type": "markdown",
   "metadata": {},
   "source": [
    "## Built-in functions"
   ]
  },
  {
   "cell_type": "code",
   "execution_count": 41,
   "metadata": {
    "collapsed": false
   },
   "outputs": [
    {
     "data": {
      "text/plain": [
       "[1.0, 2.0, 3.0, 4.0, 5.0]"
      ]
     },
     "execution_count": 41,
     "metadata": {},
     "output_type": "execute_result"
    }
   ],
   "source": [
    "list01 = [ 1, 4, 9, 16, 25 ]\n",
    "\n",
    "list02 = map(math.sqrt, list01) # map is an anonymous function. It does not require import.\n",
    "\n",
    "list02\n"
   ]
  },
  {
   "cell_type": "markdown",
   "metadata": {},
   "source": [
    "## Filtering elements"
   ]
  },
  {
   "cell_type": "code",
   "execution_count": 9,
   "metadata": {
    "collapsed": false
   },
   "outputs": [
    {
     "name": "stdout",
     "output_type": "stream",
     "text": [
      "[10, 4, 3, 5]\n",
      "[10, 4, 3, 5]\n"
     ]
    }
   ],
   "source": [
    "list03 = [ 10, 4, -1, 3, 5, -9, -11 ]\n",
    "\n",
    "greater_than_zero = filter(lambda x : x > 0, list03)\n",
    "\n",
    "def fn_greater_than_zero(x):\n",
    "    return x > 0\n",
    "\n",
    "print greater_than_zero\n",
    "\n",
    "print filter(fn_greater_than_zero, list03)"
   ]
  },
  {
   "cell_type": "markdown",
   "metadata": {},
   "source": [
    "## Reduce and Lambda\n",
    "\n",
    "Python's **Reduce** function allows us to apply certain function to all values of a set, in a way that all are summarized into an unique value. It is widely used together with **lambda** expressions, which function is to support anonymous expressions."
   ]
  },
  {
   "cell_type": "code",
   "execution_count": 8,
   "metadata": {
    "collapsed": false
   },
   "outputs": [
    {
     "name": "stdout",
     "output_type": "stream",
     "text": [
      "<type 'list'>\n",
      "1\n",
      "3\n",
      "6\n",
      "10\n",
      "15\n",
      "15\n"
     ]
    }
   ],
   "source": [
    "list04 = [ 1, 2, 3, 4, 5 ]\n",
    "print type(list04)\n",
    "total = 0\n",
    "for num in list04:\n",
    "    total = total + num\n",
    "    print total\n",
    "\n",
    "soma = reduce(lambda x, y: x + y, list04)\n",
    "\n",
    "print soma"
   ]
  },
  {
   "cell_type": "markdown",
   "metadata": {},
   "source": [
    "## Operators\n",
    "\n",
    "String concatenation"
   ]
  },
  {
   "cell_type": "code",
   "execution_count": 13,
   "metadata": {
    "collapsed": false
   },
   "outputs": [
    {
     "name": "stdout",
     "output_type": "stream",
     "text": [
      "What is your first name? patrick\n",
      "And your last name? silva\n",
      "Hi patrick silva!\n"
     ]
    }
   ],
   "source": [
    "firstname = raw_input('What is your first name? ')\n",
    "lastname = raw_input('And your last name? ')\n",
    "print('Hi ' + firstname + ' ' + lastname + '!')\n"
   ]
  },
  {
   "cell_type": "markdown",
   "metadata": {},
   "source": [
    "## String case conversion: Upper, Lower"
   ]
  },
  {
   "cell_type": "code",
   "execution_count": 10,
   "metadata": {
    "collapsed": false
   },
   "outputs": [
    {
     "name": "stdout",
     "output_type": "stream",
     "text": [
      "Can I help you? Convert This String to LOWER CASE\n",
      "convert this string to lower case\n",
      "33\n"
     ]
    }
   ],
   "source": [
    "lowerCaseString = raw_input('Can I help you? ').lower()\n",
    "\n",
    "print lowerCaseString\n",
    "print len(lowerCaseString)"
   ]
  },
  {
   "cell_type": "markdown",
   "metadata": {},
   "source": [
    "19:02"
   ]
  },
  {
   "cell_type": "markdown",
   "metadata": {},
   "source": [
    "### References\n",
    "\n",
    "https://docs.python.org/2/whatsnew/2.0.html?highlight=anonymous\n",
    "\n",
    "https://docs.python.org/2/reference/index.html\n",
    "\n",
    "https://docs.python.org/2/library/index.html\n",
    "\n",
    "https://docs.python.org/2/library/operator.html\n",
    "\n",
    "https://docs.python.org/2/library/functions.html#map\n",
    "\n",
    "https://softwareengineering.stackexchange.com/questions/99243/why-doesnt-python-allow-multi-line-lambdas\n",
    "\n",
    "https://docs.python.org/2/reference/expressions.html#lambda\n",
    "\n",
    "https://docs.python.org/2.7/tutorial/controlflow.html#lambda-expressions\n",
    "\n",
    "https://docs.python.org/2/library/math.html\n",
    "\n",
    "http://book.pythontips.com/en/latest/map_filter.html\n",
    "\n",
    "https://docs.python.org/2/library/functions.html#map\n",
    "\n",
    "https://docs.python.org/2/library/functions.html#filter\n",
    "\n",
    "http://book.pythontips.com/en/latest/map_filter.html\n",
    "\n",
    "https://docs.python.org/2/library/functions.html#reduce\n",
    "\n",
    "https://stackoverflow.com/questions/402504/how-to-determine-a-python-variables-type\n",
    "\n",
    "https://docs.python.org/2/library/string.html"
   ]
  }
 ],
 "metadata": {
  "kernelspec": {
   "display_name": "Python (py27)",
   "language": "python",
   "name": "py27"
  },
  "language_info": {
   "codemirror_mode": {
    "name": "ipython",
    "version": 2
   },
   "file_extension": ".py",
   "mimetype": "text/x-python",
   "name": "python",
   "nbconvert_exporter": "python",
   "pygments_lexer": "ipython2",
   "version": "2.7.13"
  }
 },
 "nbformat": 4,
 "nbformat_minor": 2
}
