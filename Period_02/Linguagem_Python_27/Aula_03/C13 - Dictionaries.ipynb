{
 "cells": [
  {
   "cell_type": "markdown",
   "metadata": {},
   "source": [
    "## Dictionaries as an strategy for advanced text analysis"
   ]
  },
  {
   "cell_type": "markdown",
   "metadata": {},
   "source": [
    "* Python dictionaries epistemology\n",
    "* Identify the diverse dictionaries forms of use in Python\n",
    "* Develop computer programs in Python with dictionaries in order to make advanced text analysis"
   ]
  },
  {
   "cell_type": "markdown",
   "metadata": {},
   "source": [
    "### Data Structure: LIST\n",
    "\n",
    "A **list** is one of the most basic data structure that contains a collection of ordered items."
   ]
  },
  {
   "cell_type": "code",
   "execution_count": 2,
   "metadata": {
    "collapsed": false
   },
   "outputs": [
    {
     "name": "stdout",
     "output_type": "stream",
     "text": [
      "[1, 2, 3, 4, 5]\n",
      "['mixed list sample', True, 3.14, ['iteration', 'selection', 'control']]\n"
     ]
    }
   ],
   "source": [
    "list_characteristics = ['iteration','selection','control']\n",
    "list_of_numbers = [1,2,3,4,5]\n",
    "empty_list = []\n",
    "mixed_list = ['mixed list sample',True,3.14,list_characteristics]\n",
    "\n",
    "print list_of_numbers\n",
    "print mixed_list"
   ]
  },
  {
   "cell_type": "markdown",
   "metadata": {},
   "source": [
    "### Data Structure: Python DICTIONARIES\n",
    "\n",
    "A **Dictionary**, in Python, is a generalized list which indexes can be numbers and also any valid data type, representing a relation of **key-value** pairs."
   ]
  },
  {
   "cell_type": "code",
   "execution_count": 12,
   "metadata": {
    "collapsed": false
   },
   "outputs": [
    {
     "name": "stdout",
     "output_type": "stream",
     "text": [
      "{'a': 'alpha', 'b': 'beta', 'g': 'gama'}\n",
      "<type 'dict'>\n",
      "one\n",
      "Apr\n"
     ]
    }
   ],
   "source": [
    "grek_alphabet_dict = dict([('a','alpha'),('b','beta'),('g','gama')])\n",
    "\n",
    "print grek_alphabet_dict\n",
    "\n",
    "\n",
    "counters_set_dict = dict([(1,'one'),(2,'two'),(3,'three')])\n",
    "\n",
    "months_dict = dict([(1,'Jan'),(2,'Fev'),(3,'Mar'),(4,'Apr')])\n",
    "\n",
    "\n",
    "print type(counters_set_dict)\n",
    "\n",
    "print counters_set_dict[1]\n",
    "\n",
    "print months_dict[4]\n"
   ]
  },
  {
   "cell_type": "markdown",
   "metadata": {},
   "source": [
    "#### Python Dictionary as a counter"
   ]
  },
  {
   "cell_type": "code",
   "execution_count": 14,
   "metadata": {
    "collapsed": false
   },
   "outputs": [
    {
     "name": "stdout",
     "output_type": "stream",
     "text": [
      "{'a': 3, ' ': 5, 'c': 1, 'E': 2, 'd': 1, 'f': 1, 'h': 2, 'm': 1, 'l': 1, 'o': 4, 'n': 5, 'P': 4, 's': 4, 'r': 2, 't': 3, 'y': 1, 'e': 2, ':': 1, 'p': 1}\n"
     ]
    }
   ],
   "source": [
    "pep_numerology = 'PEP stands for: Python Enhancement Proposals'\n",
    "\n",
    "\n",
    "# initiate a blank dictionary\n",
    "d = dict()\n",
    "\n",
    "# using dictionaries as a counter\n",
    "for c in pep_numerology:\n",
    "    if c not in d:\n",
    "        d[c] = 1\n",
    "    else:\n",
    "        d[c] = d[c] + 1\n",
    "\n",
    "print d"
   ]
  },
  {
   "cell_type": "markdown",
   "metadata": {},
   "source": [
    "#### Python Dictionary and files"
   ]
  },
  {
   "cell_type": "code",
   "execution_count": 15,
   "metadata": {
    "collapsed": false
   },
   "outputs": [
    {
     "name": "stdout",
     "output_type": "stream",
     "text": [
      "Type in song lyrics file name: New_Rules_Dua_Lipa_2017.txt\n",
      "{'Practice': 1, 'no)': 1, \"don't\": 13, 'over': 4, 'Rehearse': 1, 'one,': 1, 'rules,': 9, 'US,': 1, 'Eat,': 1, 'Ian': 1, 'sleep': 1, 'still': 1, 'Oh,': 1, \"he's\": 6, 'Rules': 1, 'drunk': 3, \"Talkin'\": 1, 'only': 3, '(I': 1, 'turn,': 2, 'under': 3, 'save': 1, 'kick': 3, '(Out': 1, 'me': 5, 'them': 6, 'his': 10, 'read': 1, '(baby': 1, 'Publishing,': 1, 'Lirics:': 1, 'gonna': 3, 'know': 7, 'new': 9, 'sleep,': 1, \"I'm\": 2, 'him': 17, 'like': 1, \"Don't\": 4, 'morning': 3, 'night': 1, 'Warren': 1, 'Two,': 3, 'learn': 1, \"pushin'\": 1, 'back': 1, '\\xc2\\xa9': 1, 'see': 1, 'perfect': 1, 'New': 1, 'calling': 3, 'out': 5, 'BMG': 1, 'pattern': 1, 'Nobody': 1, '/': 2, 'mind,': 1, 'mind)': 1, 'LLC': 1, 'got': 9, \"'em)\": 1, 'be': 7, 'Ailin': 1, \"you're\": 6, 'never': 2, 'let': 7, 'alone': 3, 'by': 1, 'backwards': 1, 'getting': 4, 'of': 2, '(Too': 1, \"I've\": 15, 'One,': 4, 'count': 10, 'keep': 1, 'way)': 1, 'pick': 3, 'learn)': 1, 'makes': 2, 'love': 1, 'forwards': 1, 'myself,': 2, 'feel': 1, 'one': 1, 'down': 1, 'times)': 1, 'Management': 1, 'times,': 1, 'NEW': 1, \"'em\": 9, '(I,': 1, 'standing': 1, \"doesn't\": 2, 'from': 1, 'would': 1, 'to': 11, 'love,': 2, 'Kirkpatrick': 1, 'finally': 1, 'But': 3, 'Three,': 3, 'too': 1, 'Peermusic': 1, 'tell': 10, 'friend': 5, 'breathe': 1, 'nobody': 1, 'else': 2, 'phone': 3, \"ain't\": 4, 'Music,': 1, 'Inc,': 1, 'Wrote': 1, 'he': 4, 'And': 3, 'myself': 9, 'Now': 1, 'gotta': 6, 'up': 6, 'bed': 3, 'loves': 1, 'many': 2, 'my': 5, 'and': 6, 'heart': 1, 'crazy': 1, 'friend,': 2, 'do': 1, 'it': 7, \"tryna'\": 1, 'at': 1, 'have': 3, 'in': 12, \"Makin'\": 1, 'You': 13, 'if': 3, 'again': 3, 'Caroline': 1, \"Hopin'\": 1, 'do,': 2, 'no': 1, 'RULES': 1, 'Rights': 1, 'I)': 1, '(Nowhere': 2, 'I,': 1, 'you': 1, 'repeat': 1, 'I': 21, 'in,': 2, \"pullin'\": 1, \"'cause\": 4, 'learn,': 1, 'Composers:': 1, 'Warner/Chappell': 1, 'keeps': 1, 'So': 2, 'the': 7, 'wake': 3, 'Emily': 1}\n"
     ]
    }
   ],
   "source": [
    "songLyricsFilename = raw_input('Type in song lyrics file name: ')\n",
    "\n",
    "try:\n",
    "    songLyricsFile = open('tmp/'+songLyricsFilename)\n",
    "except:\n",
    "    print 'File not found: ', songLyricsFilename\n",
    "    exit()\n",
    "    \n",
    "wordCountDict = dict()\n",
    "\n",
    "for lines in songLyricsFile:\n",
    "    listOfWords = lines.split() # list of words\n",
    "    for word in listOfWords:\n",
    "        if word not in wordCountDict:\n",
    "            wordCountDict[word] = 1\n",
    "        else:\n",
    "            wordCountDict[word] = wordCountDict[word] + 1\n",
    "print wordCountDict"
   ]
  }
 ],
 "metadata": {
  "kernelspec": {
   "display_name": "Python 2",
   "language": "python",
   "name": "python2"
  },
  "language_info": {
   "codemirror_mode": {
    "name": "ipython",
    "version": 2
   },
   "file_extension": ".py",
   "mimetype": "text/x-python",
   "name": "python",
   "nbconvert_exporter": "python",
   "pygments_lexer": "ipython2",
   "version": "2.7.13"
  }
 },
 "nbformat": 4,
 "nbformat_minor": 2
}
