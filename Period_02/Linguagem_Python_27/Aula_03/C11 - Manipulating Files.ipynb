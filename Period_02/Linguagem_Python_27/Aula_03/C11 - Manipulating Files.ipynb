{
 "cells": [
  {
   "cell_type": "markdown",
   "metadata": {},
   "source": [
    "## Manipulating files\n",
    "\n",
    "_Files are non volatile units of storage._\n",
    "\n",
    "### Persistency\n",
    "\n",
    "_Files allow to storage a big amount of data for an undefined amount of time._\n",
    "\n"
   ]
  },
  {
   "cell_type": "markdown",
   "metadata": {},
   "source": [
    "### Creating an empty file"
   ]
  },
  {
   "cell_type": "code",
   "execution_count": 7,
   "metadata": {
    "collapsed": false
   },
   "outputs": [
    {
     "name": "stdout",
     "output_type": "stream",
     "text": [
      "C:\\Users\\acer\\Documents\\Projects\\Pos_DataScience_BigDataAnalytics\\Period_02\\Linguagem_Python_27\\Aula_03\n"
     ]
    }
   ],
   "source": [
    "import os\n",
    "\n",
    "print os.getcwd()"
   ]
  },
  {
   "cell_type": "code",
   "execution_count": 17,
   "metadata": {
    "collapsed": false
   },
   "outputs": [
    {
     "name": "stdout",
     "output_type": "stream",
     "text": [
      "<open file 'tmp/teste.dat', mode 'w' at 0x00000000045B0F60>\n",
      "\n",
      "Empty file created successfully.554\n"
     ]
    },
    {
     "data": {
      "text/plain": [
       "'554'"
      ]
     },
     "execution_count": 17,
     "metadata": {},
     "output_type": "execute_result"
    }
   ],
   "source": [
    "arq = open('tmp/teste.dat','w')\n",
    "\n",
    "print arq\n",
    "\n",
    "arq.close()\n",
    "\n",
    "raw_input('\\nEmpty file created successfully.')"
   ]
  },
  {
   "cell_type": "markdown",
   "metadata": {},
   "source": [
    "## Opening Modes\n",
    "\n",
    "* 'w', write\n",
    "* 'r', read\n",
    "* 'a', append\n",
    "* 'b', binary mode\n",
    "* '+', override old file"
   ]
  },
  {
   "cell_type": "code",
   "execution_count": 22,
   "metadata": {
    "collapsed": false
   },
   "outputs": [
    {
     "name": "stdout",
     "output_type": "stream",
     "text": [
      "File filled successfully\n"
     ]
    }
   ],
   "source": [
    "arq = open('tmp/teste.dat','w')\n",
    "txt = [] # initializes an empty list\n",
    "\n",
    "txt.append('List of Friends\\n')\n",
    "txt.append('---\\n')\n",
    "txt.append('SQL\\n')\n",
    "txt.append('R\\n')\n",
    "txt.append('Python\\n')\n",
    "txt.append('Java\\n')\n",
    "txt.append('Scala\\n')\n",
    "arq.writelines(txt)\n",
    "arq.close()\n",
    "\n",
    "print 'File filled successfully'\n"
   ]
  },
  {
   "cell_type": "code",
   "execution_count": 28,
   "metadata": {
    "collapsed": false
   },
   "outputs": [
    {
     "name": "stdout",
     "output_type": "stream",
     "text": [
      "List of Friends\n",
      "\n",
      "---\n",
      "\n",
      "SQL\n",
      "\n",
      "R\n",
      "\n",
      "Python\n",
      "\n",
      "Java\n",
      "\n",
      "Scala\n",
      "\n",
      "Haskell\n",
      "File read successfully\n"
     ]
    }
   ],
   "source": [
    "arq = open('tmp/arquivo.txt','w+')\n",
    "\n",
    "txt = [] # initializes an empty list\n",
    "\n",
    "txt.append('List of Friends\\n')\n",
    "txt.append('---\\n')\n",
    "txt.append('SQL\\n')\n",
    "txt.append('R\\n')\n",
    "txt.append('Python\\n')\n",
    "txt.append('Java\\n')\n",
    "txt.append('Scala\\n')\n",
    "txt.append('Haskell')\n",
    "arq.writelines(txt)\n",
    "arq.close()\n",
    "\n",
    "arq = open('tmp/arquivo.txt','r')\n",
    "\n",
    "txt02 = arq.readlines()\n",
    "for line in txt02:\n",
    "    print line\n",
    "arq.close()\n",
    "\n",
    "print 'File read successfully'"
   ]
  },
  {
   "cell_type": "markdown",
   "metadata": {},
   "source": [
    "Aula 11, 13:40"
   ]
  },
  {
   "cell_type": "markdown",
   "metadata": {},
   "source": [
    "### References\n",
    "\n",
    "https://docs.python.org/2/library/functions.html#open\n",
    "\n",
    "https://stackoverflow.com/questions/12201928/python-open-method-ioerror-errno-2-no-such-file-or-directory"
   ]
  }
 ],
 "metadata": {
  "kernelspec": {
   "display_name": "Python 2",
   "language": "python",
   "name": "python2"
  },
  "language_info": {
   "codemirror_mode": {
    "name": "ipython",
    "version": 2
   },
   "file_extension": ".py",
   "mimetype": "text/x-python",
   "name": "python",
   "nbconvert_exporter": "python",
   "pygments_lexer": "ipython2",
   "version": "2.7.13"
  }
 },
 "nbformat": 4,
 "nbformat_minor": 2
}
