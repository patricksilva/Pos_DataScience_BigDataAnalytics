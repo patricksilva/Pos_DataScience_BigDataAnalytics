{
 "cells": [
  {
   "cell_type": "markdown",
   "metadata": {},
   "source": [
    "## Data Research\n",
    "\n",
    "Python allows to research for data in files without having to read the entire file into the computer memory.\n",
    "\n",
    "By doing this, we can build simple but efficient search mechanisms to find rows tha match any particular criteria."
   ]
  },
  {
   "cell_type": "code",
   "execution_count": null,
   "metadata": {
    "collapsed": false
   },
   "outputs": [],
   "source": [
    "file_01 = open('tmp/arqnum.txt','w') # create file\n",
    "\n",
    "listOfTuples = []\n",
    "n = 101\n",
    "\n",
    "for i in range(1,n):\n",
    "    listOfTuples.append(str(i) + '\\n')\n",
    "\n",
    "file_01.writelines(listOfTuples)\n",
    "\n",
    "```\n",
    "# this uses another approach, writing line by line\n",
    "i = 0\n",
    "\n",
    "for k in range(n):\n",
    "    i = i + 1\n",
    "    file_01.write(str(i)+'\\n')\n",
    "```\n",
    "file_01.close()"
   ]
  },
  {
   "cell_type": "code",
   "execution_count": null,
   "metadata": {
    "collapsed": false
   },
   "outputs": [],
   "source": [
    "file_01 = open('tmp/arqnum.txt','r') # searching in files\n",
    "\n",
    "for line in file_01:\n",
    "    if int(line) % 2 != 0: # if odd number, print line\n",
    "        print line.rstrip() # eliminate blank lines\n",
    "file_01.close()"
   ]
  },
  {
   "cell_type": "markdown",
   "metadata": {},
   "source": [
    "## Try, except and open\n",
    "\n",
    "This allows us to handle apropriately any errors that may occur in the process of dealing with files."
   ]
  },
  {
   "cell_type": "markdown",
   "metadata": {},
   "source": [
    "## Without error handling"
   ]
  },
  {
   "cell_type": "code",
   "execution_count": 22,
   "metadata": {
    "collapsed": false
   },
   "outputs": [
    {
     "name": "stdout",
     "output_type": "stream",
     "text": [
      "File name: test\n"
     ]
    },
    {
     "ename": "IOError",
     "evalue": "[Errno 2] No such file or directory: 'tmp/test'",
     "output_type": "error",
     "traceback": [
      "\u001b[1;31m---------------------------------------------------------------------------\u001b[0m",
      "\u001b[1;31mIOError\u001b[0m                                   Traceback (most recent call last)",
      "\u001b[1;32m<ipython-input-22-b9914e1b0498>\u001b[0m in \u001b[0;36m<module>\u001b[1;34m()\u001b[0m\n\u001b[0;32m      2\u001b[0m \u001b[0mfileName\u001b[0m \u001b[1;33m=\u001b[0m \u001b[0mraw_input\u001b[0m\u001b[1;33m(\u001b[0m\u001b[1;34m'File name: '\u001b[0m\u001b[1;33m)\u001b[0m\u001b[1;33m\u001b[0m\u001b[0m\n\u001b[0;32m      3\u001b[0m \u001b[1;33m\u001b[0m\u001b[0m\n\u001b[1;32m----> 4\u001b[1;33m \u001b[0mtheFile\u001b[0m \u001b[1;33m=\u001b[0m \u001b[0mopen\u001b[0m\u001b[1;33m(\u001b[0m\u001b[1;34m'tmp/'\u001b[0m \u001b[1;33m+\u001b[0m \u001b[0mfileName\u001b[0m\u001b[1;33m)\u001b[0m\u001b[1;33m\u001b[0m\u001b[0m\n\u001b[0m\u001b[0;32m      5\u001b[0m \u001b[1;33m\u001b[0m\u001b[0m\n\u001b[0;32m      6\u001b[0m \u001b[1;32mfor\u001b[0m \u001b[0mline\u001b[0m \u001b[1;32min\u001b[0m \u001b[0mtheFile\u001b[0m\u001b[1;33m:\u001b[0m\u001b[1;33m\u001b[0m\u001b[0m\n",
      "\u001b[1;31mIOError\u001b[0m: [Errno 2] No such file or directory: 'tmp/test'"
     ]
    }
   ],
   "source": [
    "fileName = raw_input('File name: ')\n",
    "\n",
    "theFile = open('tmp/' + fileName)\n",
    "\n",
    "for line in theFile:\n",
    "    print line.rstrip()\n",
    "theFile.close()"
   ]
  },
  {
   "cell_type": "markdown",
   "metadata": {},
   "source": [
    "## With error handling"
   ]
  },
  {
   "cell_type": "code",
   "execution_count": null,
   "metadata": {
    "collapsed": false
   },
   "outputs": [],
   "source": [
    "fileName = raw_input('File name: ')\n",
    "\n",
    "try:\n",
    "    theFile = open('tmp/' + fileName)\n",
    "except:\n",
    "    print 'File ' + fileName + ' could not be open.'\n",
    "    exit() # this kills the Python Kernel in Jupyter environment\n",
    "\n",
    "for line in theFile:\n",
    "    print line.rstrip()\n",
    "theFile.close()"
   ]
  },
  {
   "cell_type": "markdown",
   "metadata": {},
   "source": [
    "## Creating binary files"
   ]
  },
  {
   "cell_type": "code",
   "execution_count": 4,
   "metadata": {
    "collapsed": false
   },
   "outputs": [],
   "source": [
    "import pickle\n",
    "\n",
    "fileName = open('tmp/binary_file.dat','wb') # write binary  mode\n",
    "for i in range(10):\n",
    "    pickle.dump(i, fileName)\n",
    "fileName.close()"
   ]
  },
  {
   "cell_type": "markdown",
   "metadata": {},
   "source": [
    "## Reading binary files"
   ]
  },
  {
   "cell_type": "code",
   "execution_count": 6,
   "metadata": {
    "collapsed": false
   },
   "outputs": [
    {
     "name": "stdout",
     "output_type": "stream",
     "text": [
      "45\n"
     ]
    }
   ],
   "source": [
    "import pickle\n",
    "\n",
    "fileName = open('tmp/binary_file.dat','rb') # read binary mode\n",
    "total = 0\n",
    "\n",
    "for i in range(10):\n",
    "    n = pickle.load(fileName)\n",
    "    total = total + n\n",
    "\n",
    "print total\n",
    "fileName.close()"
   ]
  },
  {
   "cell_type": "code",
   "execution_count": null,
   "metadata": {
    "collapsed": true
   },
   "outputs": [],
   "source": []
  }
 ],
 "metadata": {
  "kernelspec": {
   "display_name": "Python 2",
   "language": "python",
   "name": "python2"
  },
  "language_info": {
   "codemirror_mode": {
    "name": "ipython",
    "version": 2
   },
   "file_extension": ".py",
   "mimetype": "text/x-python",
   "name": "python",
   "nbconvert_exporter": "python",
   "pygments_lexer": "ipython2",
   "version": "2.7.13"
  }
 },
 "nbformat": 4,
 "nbformat_minor": 2
}
