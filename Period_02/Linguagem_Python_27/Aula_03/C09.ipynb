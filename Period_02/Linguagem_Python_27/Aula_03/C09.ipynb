{
 "cells": [
  {
   "cell_type": "markdown",
   "metadata": {},
   "source": [
    "## Working with functions"
   ]
  },
  {
   "cell_type": "code",
   "execution_count": 3,
   "metadata": {
    "collapsed": false
   },
   "outputs": [
    {
     "name": "stdout",
     "output_type": "stream",
     "text": [
      "V\n",
      "A\n"
     ]
    }
   ],
   "source": [
    "print max('SILVA')\n",
    "\n",
    "print min('SILVA')"
   ]
  },
  {
   "cell_type": "code",
   "execution_count": 5,
   "metadata": {
    "collapsed": false
   },
   "outputs": [
    {
     "name": "stdout",
     "output_type": "stream",
     "text": [
      "a=1000, b=3000, c=100\n",
      "Maximal = b\n",
      "Minimal = c\n"
     ]
    }
   ],
   "source": [
    "d = { 'a':1000, 'b':3000, 'c':100 }\n",
    "\n",
    "print 'a=1000, b=3000, c=100'\n",
    "\n",
    "print 'Maximal = ' + max(d, key = d.get)\n",
    "print 'Minimal = ' + min(d, key = d.get)"
   ]
  },
  {
   "cell_type": "code",
   "execution_count": 7,
   "metadata": {
    "collapsed": false
   },
   "outputs": [
    {
     "name": "stdout",
     "output_type": "stream",
     "text": [
      "5\n"
     ]
    }
   ],
   "source": [
    "print len('SILVA')"
   ]
  },
  {
   "cell_type": "markdown",
   "metadata": {},
   "source": [
    "## Data type casting, or type conversion\n",
    "\n",
    "int()\n",
    "\n",
    "float()\n",
    "\n",
    "str()\n",
    "\n"
   ]
  },
  {
   "cell_type": "code",
   "execution_count": 11,
   "metadata": {
    "collapsed": false
   },
   "outputs": [
    {
     "name": "stdout",
     "output_type": "stream",
     "text": [
      "Type in an integer number: 4\n",
      "Type in another integer number: 5\n",
      "9\n"
     ]
    }
   ],
   "source": [
    "num1 = raw_input('Type in an integer number: ')\n",
    "num2 = raw_input('Type in another integer number: ')\n",
    "\n",
    "# conversion from string to integer\n",
    "print int(num1) + int(num2)\n"
   ]
  },
  {
   "cell_type": "code",
   "execution_count": 12,
   "metadata": {
    "collapsed": false
   },
   "outputs": [
    {
     "name": "stdout",
     "output_type": "stream",
     "text": [
      "Type in an real number: 3.14\n",
      "Type in another real number: 2.68\n",
      "5.82\n"
     ]
    }
   ],
   "source": [
    "num1 = raw_input('Type in an real number: ')\n",
    "num2 = raw_input('Type in another real number: ')\n",
    "\n",
    "# conversion from string to real\n",
    "print float(num1) + float(num2)"
   ]
  },
  {
   "cell_type": "code",
   "execution_count": 14,
   "metadata": {
    "collapsed": false
   },
   "outputs": [
    {
     "name": "stdout",
     "output_type": "stream",
     "text": [
      "What is your birth year? 1980\n",
      "Your are 37 years old\n"
     ]
    }
   ],
   "source": [
    "birth_year = raw_input('What is your birth year? ')\n",
    "actual_year = 2017\n",
    "age = actual_year - int(birth_year)\n",
    "print 'Your are ' + str(age) + ' years old'"
   ]
  },
  {
   "cell_type": "markdown",
   "metadata": {},
   "source": [
    "\n",
    "## Math functions"
   ]
  },
  {
   "cell_type": "code",
   "execution_count": 25,
   "metadata": {
    "collapsed": false
   },
   "outputs": [
    {
     "name": "stdout",
     "output_type": "stream",
     "text": [
      "3.14159265359\n",
      "2.71828182846\n",
      "1j\n"
     ]
    }
   ],
   "source": [
    "import math\n",
    "import cmath\n",
    "\n",
    "print math.pi\n",
    "\n",
    "print math.e\n",
    "\n",
    "print cmath.sqrt(-1)"
   ]
  },
  {
   "cell_type": "markdown",
   "metadata": {},
   "source": [
    "## Basic Trigonometric functions"
   ]
  },
  {
   "cell_type": "code",
   "execution_count": 29,
   "metadata": {
    "collapsed": false
   },
   "outputs": [
    {
     "name": "stdout",
     "output_type": "stream",
     "text": [
      "Type in a number:6.28\n",
      "sin 6.28 = -0.00318530179314\n",
      "cos 0.999994926913 = 0.999994926913\n",
      "tg -0.00318531795253 = -0.00318531795253\n"
     ]
    }
   ],
   "source": [
    "x = float(raw_input('Type in a number:'))\n",
    "a = math.sin(x)\n",
    "b = math.cos(x)\n",
    "c = math.tan(x)\n",
    "\n",
    "print 'sin ' + str(x) + ' = ' + str(a)\n",
    "\n",
    "print 'cos ' + str(b) + ' = ' + str(b)\n",
    "\n",
    "print 'tg ' + str(c) + ' = ' + str(c)\n"
   ]
  },
  {
   "cell_type": "code",
   "execution_count": null,
   "metadata": {
    "collapsed": true
   },
   "outputs": [],
   "source": []
  }
 ],
 "metadata": {
  "kernelspec": {
   "display_name": "Python 2",
   "language": "python",
   "name": "python2"
  },
  "language_info": {
   "codemirror_mode": {
    "name": "ipython",
    "version": 2
   },
   "file_extension": ".py",
   "mimetype": "text/x-python",
   "name": "python",
   "nbconvert_exporter": "python",
   "pygments_lexer": "ipython2",
   "version": "2.7.13"
  }
 },
 "nbformat": 4,
 "nbformat_minor": 2
}
