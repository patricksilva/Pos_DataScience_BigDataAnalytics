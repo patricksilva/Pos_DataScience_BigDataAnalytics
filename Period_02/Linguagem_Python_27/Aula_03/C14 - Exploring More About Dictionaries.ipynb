{
 "cells": [
  {
   "cell_type": "markdown",
   "metadata": {},
   "source": [
    "## Exploring More About Dictionaries\n",
    "\n",
    "### Using a Dictionary as a sequence in an iteration structure"
   ]
  },
  {
   "cell_type": "code",
   "execution_count": 8,
   "metadata": {
    "collapsed": false
   },
   "outputs": [
    {
     "name": "stdout",
     "output_type": "stream",
     "text": [
      "January 1\n",
      "February 2\n",
      "March 3\n"
     ]
    }
   ],
   "source": [
    "counts = {'January':1,'February':2,'March':3}\n",
    "for key in counts:\n",
    "    print key, counts[key]"
   ]
  },
  {
   "cell_type": "code",
   "execution_count": 10,
   "metadata": {
    "collapsed": false
   },
   "outputs": [
    {
     "name": "stdout",
     "output_type": "stream",
     "text": [
      "['December', 'February', 'March', 'January']\n",
      "['December', 'February', 'January', 'March']\n",
      "December 12\n",
      "February 2\n",
      "March 3\n",
      "January 1\n"
     ]
    }
   ],
   "source": [
    "counts = {'December':12,'January':1,'February':2,'March':3}\n",
    "\n",
    "keys_list = counts.keys()\n",
    "print keys_list\n",
    "keys_list.sort()\n",
    "print keys_list\n",
    "\n",
    "for key in counts:\n",
    "    print key, counts[key]"
   ]
  },
  {
   "cell_type": "markdown",
   "metadata": {},
   "source": [
    "### Advanced Text Analysis\n",
    "\n",
    "_When we aggregate values with other Python functions to **dictionaries**, we create what technically is called **advanced text analysis.**_\n",
    "\n",
    "_\"Advanced text analysis takes effect when we are doing data science.\n",
    "The data scientist at all times needs to know how to have access to these data, to these texts and, in a useful way, to be contextualizing this with the company's business to turn it into a competitive advantage. So the data scientist exclusively seeks to do these advanced analyzes, these advanced treatments.\n",
    "Most of the time, they need to be collecting this data. And sometimes not only from a base.\n",
    "So for that, we will see in future times, in another discipline. We'll see this kind of manipulation from Big Data, from Cloud Computing, where we, using the Python language, will make the data scientist referencing these advanced data analyzes from those bases remotely bound within servers, also remotely connected.\"_"
   ]
  },
  {
   "cell_type": "code",
   "execution_count": 11,
   "metadata": {
    "collapsed": false
   },
   "outputs": [
    {
     "name": "stdout",
     "output_type": "stream",
     "text": [
      "Type in a filename: New_Rules_Dua_Lipa_2017.txt\n",
      "{'over': 4, 'warnerchappell': 1, 'sleep': 2, 'llc': 1, 'still': 1, 'emily': 1, 'aint': 4, 'finally': 1, 'to': 11, 'only': 3, 'under': 3, 'save': 1, 'kick': 3, 'count': 10, 'them': 6, 'his': 10, 'read': 1, 'hopin': 1, 'practice': 1, 'gonna': 3, 'know': 7, 'got': 9, 'now': 1, 'peermusic': 1, 'him': 17, 'like': 1, 'calling': 3, 'heart': 1, 'night': 1, 'wrote': 1, 'em': 10, 'learn': 3, 'back': 1, '\\xc2\\xa9': 1, 'see': 1, 'us': 1, 'perfect': 1, 'morning': 3, 'out': 6, 'composers': 1, 'pattern': 1, 'rehearse': 1, 'new': 11, 'warren': 1, 'cause': 4, 'be': 7, 'lirics': 1, 'never': 2, 'management': 1, 'let': 7, 'nowhere': 2, 'alone': 3, 'by': 1, 'backwards': 1, 'getting': 4, 'of': 2, 'keep': 1, 'turn': 2, 'pick': 3, 'pullin': 1, 'makes': 2, 'love': 3, 'dont': 17, 'forwards': 1, 'drunk': 3, 'feel': 1, 'makin': 1, 'one': 6, 'down': 1, 'doesnt': 2, 'standing': 1, 'ian': 1, 'from': 1, 'publishing': 1, 'would': 1, 'hes': 6, 'two': 3, 'music': 1, 'too': 2, 'way': 1, 'tell': 10, 'friend': 7, 'breathe': 1, 'tryna': 1, 'bmg': 1, 'kirkpatrick': 1, 'nobody': 2, 'but': 3, 'else': 2, 'phone': 3, 'wake': 3, 'baby': 1, 'eat': 1, 'he': 4, 'me': 5, 'myself': 11, 'caroline': 1, 'rights': 1, 'gotta': 6, 'oh': 1, 'up': 6, 'bed': 3, 'three': 3, 'loves': 1, 'many': 2, 'my': 5, 'pushin': 1, 'and': 9, 'ive': 15, 'crazy': 1, 'ailin': 1, 'do': 3, 'mind': 2, 'it': 7, 'im': 2, 'at': 1, 'have': 3, 'in': 14, 'times': 2, 'if': 3, 'again': 3, 'no': 2, 'rules': 11, 'you': 14, 'inc': 1, 'talkin': 1, 'repeat': 1, 'i': 25, 'youre': 6, 'so': 2, 'keeps': 1, 'the': 7}\n"
     ]
    }
   ],
   "source": [
    "import string\n",
    "\n",
    "fname = raw_input('Type in a filename: ')\n",
    "\n",
    "try:\n",
    "    fhand = open('tmp/' + fname)\n",
    "except:\n",
    "    print 'File not found: ', fname\n",
    "    exit()\n",
    "\n",
    "counts = dict()\n",
    "\n",
    "for line in fhand:\n",
    "    line = line.translate(None, string.punctuation) # consider each word separated by a punctuation\n",
    "    line = line.lower()\n",
    "    words = line.split()\n",
    "    for word in words:\n",
    "        if word not in counts:\n",
    "            counts[word] = 1\n",
    "        else:\n",
    "            counts[word] += 1\n",
    "print counts"
   ]
  }
 ],
 "metadata": {
  "kernelspec": {
   "display_name": "Python 2",
   "language": "python",
   "name": "python2"
  },
  "language_info": {
   "codemirror_mode": {
    "name": "ipython",
    "version": 2
   },
   "file_extension": ".py",
   "mimetype": "text/x-python",
   "name": "python",
   "nbconvert_exporter": "python",
   "pygments_lexer": "ipython2",
   "version": "2.7.13"
  }
 },
 "nbformat": 4,
 "nbformat_minor": 2
}
