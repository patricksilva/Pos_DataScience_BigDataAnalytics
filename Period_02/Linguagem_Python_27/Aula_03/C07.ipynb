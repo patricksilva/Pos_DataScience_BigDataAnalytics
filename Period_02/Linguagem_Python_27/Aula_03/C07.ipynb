{
 "cells": [
  {
   "cell_type": "markdown",
   "metadata": {},
   "source": [
    "## String-in Boolean Operators"
   ]
  },
  {
   "cell_type": "code",
   "execution_count": 2,
   "metadata": {
    "collapsed": false
   },
   "outputs": [
    {
     "name": "stdout",
     "output_type": "stream",
     "text": [
      "1\n",
      "5.5\n",
      "Patrick\n"
     ]
    }
   ],
   "source": [
    "num1 = 1\n",
    "num2 = 5.5\n",
    "name = 'Patrick'\n",
    "\n",
    "print '%d' % num1\n",
    "\n",
    "print '%2.1f' % num2\n",
    "\n",
    "print '%s' % name"
   ]
  }
 ],
 "metadata": {
  "kernelspec": {
   "display_name": "Python 2",
   "language": "python",
   "name": "python2"
  },
  "language_info": {
   "codemirror_mode": {
    "name": "ipython",
    "version": 2
   },
   "file_extension": ".py",
   "mimetype": "text/x-python",
   "name": "python",
   "nbconvert_exporter": "python",
   "pygments_lexer": "ipython2",
   "version": "2.7.13"
  }
 },
 "nbformat": 4,
 "nbformat_minor": 2
}
