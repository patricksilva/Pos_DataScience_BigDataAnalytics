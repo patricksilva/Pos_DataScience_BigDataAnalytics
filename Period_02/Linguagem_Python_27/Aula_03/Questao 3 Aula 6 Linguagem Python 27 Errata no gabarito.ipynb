{
 "cells": [
  {
   "cell_type": "code",
   "execution_count": 37,
   "metadata": {
    "collapsed": false
   },
   "outputs": [
    {
     "name": "stdout",
     "output_type": "stream",
     "text": [
      "['Nova linha\\n', 'Nova linha\\n', 'Nova linha\\n', 'Nova linha\\n', 'Nova linha\\n', 'Nova linha\\n', 'Nova linha\\n', 'Nova linha\\n', 'Nova linha\\n', 'Nova linha\\n']\n"
     ]
    }
   ],
   "source": [
    "arquivo = open('tmp/musica.txt','w')\n",
    "texto = []\n",
    "\n",
    "for i in range(10):\n",
    "    texto.append('Nova linha\\n')\n",
    "\n",
    "arquivo.writelines(texto)\n",
    "arquivo.close()\n",
    "\n",
    "arquivo = open('tmp/musica.txt','r')\n",
    "\n",
    "texto = arquivo.readlines()\n",
    "\n",
    "print texto\n",
    "\n",
    "arquivo.close()"
   ]
  },
  {
   "cell_type": "code",
   "execution_count": 43,
   "metadata": {
    "collapsed": false
   },
   "outputs": [
    {
     "name": "stdout",
     "output_type": "stream",
     "text": [
      "['Nova linha\\n', 'Nova linha\\n', 'Nova linha\\n', 'Nova linha\\n', 'Nova linha\\n', 'Nova linha\\n', 'Nova linha\\n', 'Nova linha\\n', 'Nova linha\\n', 'Nova linha\\n']\n",
      "['Nova linha\\n', 'Nova linha\\n', 'Nova linha\\n', 'Nova linha\\n', 'Nova linha\\n', 'Nova linha\\n', 'Nova linha\\n', 'Nova linha\\n', 'Nova linha\\n', 'Nova linha\\n', 'NOVA LINHA\\n']\n"
     ]
    }
   ],
   "source": [
    "arquivo = open('tmp/musica.txt','r')\n",
    "\n",
    "texto = arquivo.readlines()\n",
    "\n",
    "print texto\n",
    "\n",
    "arquivo.close()\n",
    "\n",
    "texto.append('NOVA LINHA\\n')\n",
    "\n",
    "print texto\n",
    "\n",
    "arquivo = open('tmp/musica.txt','w')\n",
    "\n",
    "arquivo.writelines(texto)\n",
    "\n",
    "arquivo.close()"
   ]
  }
 ],
 "metadata": {
  "kernelspec": {
   "display_name": "Python 2",
   "language": "python",
   "name": "python2"
  },
  "language_info": {
   "codemirror_mode": {
    "name": "ipython",
    "version": 2
   },
   "file_extension": ".py",
   "mimetype": "text/x-python",
   "name": "python",
   "nbconvert_exporter": "python",
   "pygments_lexer": "ipython2",
   "version": "2.7.13"
  }
 },
 "nbformat": 4,
 "nbformat_minor": 2
}
