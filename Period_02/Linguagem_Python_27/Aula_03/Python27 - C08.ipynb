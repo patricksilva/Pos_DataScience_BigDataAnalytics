{
 "cells": [
  {
   "cell_type": "markdown",
   "metadata": {},
   "source": [
    "## Control Flow"
   ]
  },
  {
   "cell_type": "markdown",
   "metadata": {},
   "source": [
    "### IF Statements"
   ]
  },
  {
   "cell_type": "code",
   "execution_count": 5,
   "metadata": {
    "collapsed": false
   },
   "outputs": [
    {
     "name": "stdout",
     "output_type": "stream",
     "text": [
      "Type in an integer number: 50\n",
      "More\n"
     ]
    }
   ],
   "source": [
    "x = int(raw_input(\"Type in an integer number: \"))\n",
    "\n",
    "# Simple Conditional Control Flow Structure\n",
    "if x < 10:\n",
    "    print 'Less than 10'\n",
    "\n",
    "\n",
    "# Compound Conditional Control Flow Structure\n",
    "if x < 0:\n",
    "    x = 0\n",
    "    print 'Negative changed to zero'\n",
    "elif x == 0:\n",
    "    print 'Zero'\n",
    "elif x == 1:\n",
    "    print 'Single'\n",
    "else:\n",
    "    print 'More'\n",
    "\n",
    "y = 5\n",
    "# Chained Conditional Control Flow Structure\n",
    "if x < 10:\n",
    "    if y > 2:\n",
    "        print 'Y is greater than 2'\n",
    "\n"
   ]
  },
  {
   "cell_type": "markdown",
   "metadata": {},
   "source": [
    "## Error Handling\n",
    "\n",
    "_There are (at least) two distinguishable kinds of errors: syntax errors and exceptions._\n",
    "\n",
    "_Errors detected during execution are called exceptions and are not unconditionally fatal: you will soon learn how to handle them in Python programs._"
   ]
  },
  {
   "cell_type": "code",
   "execution_count": 8,
   "metadata": {
    "collapsed": false
   },
   "outputs": [
    {
     "name": "stdout",
     "output_type": "stream",
     "text": [
      "Type in any number: 50\n",
      "Error handling done\n"
     ]
    }
   ],
   "source": [
    "while True:\n",
    "    try:\n",
    "        numErrorHandling = int(raw_input(\"Type in any number: \"))\n",
    "        break\n",
    "    except ValueError:\n",
    "        print \"Number invalid. Try again...\"\n",
    "    finally:\n",
    "        print \"Error handling done\""
   ]
  },
  {
   "cell_type": "markdown",
   "metadata": {},
   "source": [
    "## Repetition Statements"
   ]
  },
  {
   "cell_type": "markdown",
   "metadata": {},
   "source": [
    "### For Statements\n",
    "\n",
    "_Python's **for** statement iterates over the items of any sequence (a list or a string), in the order that they appear in the sequence._"
   ]
  },
  {
   "cell_type": "code",
   "execution_count": 23,
   "metadata": {
    "collapsed": false
   },
   "outputs": [
    {
     "name": "stdout",
     "output_type": "stream",
     "text": [
      "1 2 3 4 5 6 7 8 9 10 \n",
      "1\n",
      "2\n",
      "3\n",
      "4\n",
      "5\n",
      "6\n",
      "7\n",
      "8\n",
      "9\n",
      "10\n"
     ]
    }
   ],
   "source": [
    "for i in range(1,11):\n",
    "    print i,\n",
    "\n",
    "print ''\n",
    "    \n",
    "for i in range(1,11):\n",
    "    print i"
   ]
  },
  {
   "cell_type": "code",
   "execution_count": 32,
   "metadata": {
    "collapsed": false
   },
   "outputs": [
    {
     "name": "stdout",
     "output_type": "stream",
     "text": [
      "Even numbers in list evenNumbers\n",
      "2\n",
      "4\n",
      "6\n",
      "8\n",
      "Even numbers in range(1,21)\n",
      "2\n",
      "4\n",
      "6\n",
      "8\n",
      "10\n",
      "12\n",
      "14\n",
      "16\n",
      "18\n",
      "20\n"
     ]
    }
   ],
   "source": [
    "evenNumbers = [ 2, 4, 6, 8 ]\n",
    "\n",
    "print 'Even numbers in list evenNumbers'\n",
    "for i in evenNumbers:\n",
    "    if (i % 2 == 0):\n",
    "        print i\n",
    "\n",
    "print 'Even numbers in range(1,21)'\n",
    "for i in range(1,21):\n",
    "    if (i % 2 == 0):\n",
    "        print i"
   ]
  },
  {
   "cell_type": "markdown",
   "metadata": {},
   "source": [
    "## break, continue, else and pass\n",
    "\n",
    "**break**, interrupts innermost enclosing\n",
    "\n",
    "**continue**, skips to next iteration\n",
    "\n",
    "**else**, is executed when the loop terminates, but not when it is terminated by a **break**\n",
    "\n",
    "**pass**, can be used when a statement is required syntactically but the program requires no action."
   ]
  },
  {
   "cell_type": "markdown",
   "metadata": {},
   "source": [
    "Another place **pass** can be used is as a place-holder for a function or conditional body when you are working on new code, _**allowing you to keep thinking at a more abstract level**_. The **pass** is silently ignored:"
   ]
  },
  {
   "cell_type": "code",
   "execution_count": 33,
   "metadata": {
    "collapsed": true
   },
   "outputs": [],
   "source": [
    "def initlog(*args):\n",
    "    pass # Remember to implement this"
   ]
  },
  {
   "cell_type": "markdown",
   "metadata": {},
   "source": [
    "## References\n",
    "\n",
    "https://docs.python.org/2/tutorial/controlflow.html\n",
    "\n",
    "https://docs.python.org/2/tutorial/errors.html\n",
    "\n",
    "https://docs.python.org/2.7/tutorial/controlflow.html\n",
    "\n"
   ]
  }
 ],
 "metadata": {
  "kernelspec": {
   "display_name": "Python (py27)",
   "language": "python",
   "name": "py27"
  },
  "language_info": {
   "codemirror_mode": {
    "name": "ipython",
    "version": 2
   },
   "file_extension": ".py",
   "mimetype": "text/x-python",
   "name": "python",
   "nbconvert_exporter": "python",
   "pygments_lexer": "ipython2",
   "version": "2.7.13"
  }
 },
 "nbformat": 4,
 "nbformat_minor": 2
}
